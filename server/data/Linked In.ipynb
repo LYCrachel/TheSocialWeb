{
 "cells": [
  {
   "cell_type": "code",
   "execution_count": null,
   "metadata": {
    "collapsed": true
   },
   "outputs": [],
   "source": [
    "import linkedin"
   ]
  },
  {
   "cell_type": "code",
   "execution_count": 68,
   "metadata": {
    "collapsed": false
   },
   "outputs": [
    {
     "name": "stdout",
     "output_type": "stream",
     "text": [
      "['r_basicprofile', 'w_share', 'rw_company_admin', 'r_emailaddress']\n",
      "https://www.linkedin.com/uas/oauth2/authorization?scope=r_basicprofile%20w_share%20rw_company_admin%20r_emailaddress&state=66775a7f5b527676e0593a62fd9e0952&redirect_uri=http%3A//localhost%3A8889/&response_type=code&client_id=86p8onchhcnvr9\n"
     ]
    }
   ],
   "source": [
    "from linkedin import linkedin\n",
    "\n",
    "API_KEY = \"86p8onchhcnvr9\"\n",
    "API_SECRET = \"Er8pHlYZcWgZiZ0p\"\n",
    "RETURN_URL = \"http://localhost:8889/\"\n",
    "\n",
    "permissions = ['r_basicprofile','w_share', 'rw_company_admin', 'r_emailaddress']\n",
    "print(permissions)\n",
    "\n",
    "authentication = linkedin.LinkedInAuthentication(API_KEY, API_SECRET, RETURN_URL, permissions)\n",
    "print authentication.authorization_url\n",
    "application = linkedin.LinkedInApplication(authentication)"
   ]
  },
  {
   "cell_type": "markdown",
   "metadata": {},
   "source": [
    "AQT1ylc4OO8aIwqvnkELo2DTuUY-uzxFqqRF2Cmz8ANl7WbcQf1ThlJ9C-ws4SaCHb8bhIg5nkgBYDjE4oRkKL0F8yC9jKaNZL6bh6Br-mgTpntSX5z896IB161u_-tu1-AZfn2wFx4_IBlGonJ4gu320WpM3g"
   ]
  },
  {
   "cell_type": "code",
   "execution_count": 70,
   "metadata": {
    "collapsed": false
   },
   "outputs": [
    {
     "data": {
      "text/plain": [
       "AccessToken(access_token=u'AQUFoelS7kR4gWge3IcmmqjVU-U_aTUFSbe26TwVJPbLl2uktfgHFK3rs1icIHeMZxL7aV4JGmiVMu3X8ATeK1P0eeYWa0nOWAtKlr80ZOCuLdXuKYAMM91ehce3jHSAh9OmYB_31R0o7RqlAcFfLXbinhn2zIGsU6ssgkjp-Z19ryu_KfzZQty5bBOO44Zwe_z9BMt6-QQluSvW82mQ8EBvmqfG-fp2x-9NYeBqCErVplU7DkLXJ3Q7-VtBui7uLRpMpUOHCcCQ-ShJJgO5t_Q5vxWZHCYdRUz5sc9G6LeYv-lI1eR7MsVa6lTLmQmomzlcsOV_4IMsd75Tj-s72ESVYVhAgw', expires_in=5183999)"
      ]
     },
     "execution_count": 70,
     "metadata": {},
     "output_type": "execute_result"
    }
   ],
   "source": [
    "authentication.authorization_code = 'AQSn6eveoOluMQoEkXLzhFpTdsd8GCq1rnBJHlsgcM6o4K-Dpq_HxFRsoEsobUz-KtRhKGYfFUSwtOE1b4boGWoBxp870LMQUhfpYJOvamlg1Ki8ktdsCXbWrVTuSOFwQ0XIpEemZLhtC3_WQlL6cR5jHCl5Rw'\n",
    "authentication.get_access_token()"
   ]
  },
  {
   "cell_type": "code",
   "execution_count": 67,
   "metadata": {
    "collapsed": false
   },
   "outputs": [],
   "source": [
    "# linkedin.PERMISSIONS.enums.values()"
   ]
  },
  {
   "cell_type": "code",
   "execution_count": 71,
   "metadata": {
    "collapsed": true
   },
   "outputs": [],
   "source": [
    "access_token = 'AQUFoelS7kR4gWge3IcmmqjVU-U_aTUFSbe26TwVJPbLl2uktfgHFK3rs1icIHeMZxL7aV4JGmiVMu3X8ATeK1P0eeYWa0nOWAtKlr80ZOCuLdXuKYAMM91ehce3jHSAh9OmYB_31R0o7RqlAcFfLXbinhn2zIGsU6ssgkjp-Z19ryu_KfzZQty5bBOO44Zwe_z9BMt6-QQluSvW82mQ8EBvmqfG-fp2x-9NYeBqCErVplU7DkLXJ3Q7-VtBui7uLRpMpUOHCcCQ-ShJJgO5t_Q5vxWZHCYdRUz5sc9G6LeYv-lI1eR7MsVa6lTLmQmomzlcsOV_4IMsd75Tj-s72ESVYVhAgw'"
   ]
  },
  {
   "cell_type": "code",
   "execution_count": 72,
   "metadata": {
    "collapsed": true
   },
   "outputs": [],
   "source": [
    "application = linkedin.LinkedInApplication(token=access_token)"
   ]
  },
  {
   "cell_type": "code",
   "execution_count": 100,
   "metadata": {
    "collapsed": false
   },
   "outputs": [
    {
     "name": "stdout",
     "output_type": "stream",
     "text": [
      "{u'status': 403, u'message': u'Not enough permissions to access /search FINDER companiesV2', u'serviceErrorCode': 100}\n"
     ]
    }
   ],
   "source": [
    "response = application.make_request('GET', \n",
    "                                     url='https://api.linkedin.com/v2/search?q=companiesV2&baseSearchParams.keywords=KLM')\n",
    "# application.raise_for_error(response)\n",
    "print(response.json())"
   ]
  },
  {
   "cell_type": "code",
   "execution_count": 96,
   "metadata": {
    "collapsed": false
   },
   "outputs": [
    {
     "data": {
      "text/plain": [
       "{u'_total': 0}"
      ]
     },
     "execution_count": 96,
     "metadata": {},
     "output_type": "execute_result"
    }
   ],
   "source": [
    "application.get_companies(universal_names=['apple'], \n",
    "                          selectors=['name'])\n",
    "# 1035 is Microsoft"
   ]
  },
  {
   "cell_type": "code",
   "execution_count": 97,
   "metadata": {
    "collapsed": false
   },
   "outputs": [
    {
     "ename": "SyntaxError",
     "evalue": "invalid syntax (<ipython-input-97-fd15825a5ea6>, line 1)",
     "output_type": "error",
     "traceback": [
      "\u001b[0;36m  File \u001b[0;32m\"<ipython-input-97-fd15825a5ea6>\"\u001b[0;36m, line \u001b[0;32m1\u001b[0m\n\u001b[0;31m    application.get_company_updates(company_id=)\u001b[0m\n\u001b[0m                                               ^\u001b[0m\n\u001b[0;31mSyntaxError\u001b[0m\u001b[0;31m:\u001b[0m invalid syntax\n"
     ]
    }
   ],
   "source": [
    "application.get_company_updates(company_id=)"
   ]
  },
  {
   "cell_type": "code",
   "execution_count": 98,
   "metadata": {
    "collapsed": false
   },
   "outputs": [
    {
     "ename": "LinkedInError",
     "evalue": "400 Client Error: Bad Request for url: https://api.linkedin.com/v1/company-search:(companies:(KLM))?oauth2_access_token=AQUFoelS7kR4gWge3IcmmqjVU-U_aTUFSbe26TwVJPbLl2uktfgHFK3rs1icIHeMZxL7aV4JGmiVMu3X8ATeK1P0eeYWa0nOWAtKlr80ZOCuLdXuKYAMM91ehce3jHSAh9OmYB_31R0o7RqlAcFfLXbinhn2zIGsU6ssgkjp-Z19ryu_KfzZQty5bBOO44Zwe_z9BMt6-QQluSvW82mQ8EBvmqfG-fp2x-9NYeBqCErVplU7DkLXJ3Q7-VtBui7uLRpMpUOHCcCQ-ShJJgO5t_Q5vxWZHCYdRUz5sc9G6LeYv-lI1eR7MsVa6lTLmQmomzlcsOV_4IMsd75Tj-s72ESVYVhAgw: Unknown Error",
     "output_type": "error",
     "traceback": [
      "\u001b[0;31m---------------------------------------------------------------------------\u001b[0m",
      "\u001b[0;31mLinkedInError\u001b[0m                             Traceback (most recent call last)",
      "\u001b[0;32m<ipython-input-98-86216ef6c402>\u001b[0m in \u001b[0;36m<module>\u001b[0;34m()\u001b[0m\n\u001b[0;32m----> 1\u001b[0;31m \u001b[0mapplication\u001b[0m\u001b[0;34m.\u001b[0m\u001b[0msearch_company\u001b[0m\u001b[0;34m(\u001b[0m\u001b[0mselectors\u001b[0m\u001b[0;34m=\u001b[0m\u001b[0;34m[\u001b[0m\u001b[0;34m{\u001b[0m\u001b[0;34m'companies'\u001b[0m\u001b[0;34m:\u001b[0m \u001b[0;34m[\u001b[0m\u001b[0;34m'KLM'\u001b[0m\u001b[0;34m]\u001b[0m\u001b[0;34m}\u001b[0m\u001b[0;34m]\u001b[0m\u001b[0;34m)\u001b[0m\u001b[0;34m\u001b[0m\u001b[0m\n\u001b[0m",
      "\u001b[0;32m/Users/christinevinck/anaconda3/envs/SocialWeb/lib/python2.7/site-packages/linkedin/linkedin.pyc\u001b[0m in \u001b[0;36msearch_company\u001b[0;34m(self, selectors, params, headers)\u001b[0m\n\u001b[1;32m    370\u001b[0m \u001b[0;34m\u001b[0m\u001b[0m\n\u001b[1;32m    371\u001b[0m         \u001b[0mresponse\u001b[0m \u001b[0;34m=\u001b[0m \u001b[0mself\u001b[0m\u001b[0;34m.\u001b[0m\u001b[0mmake_request\u001b[0m\u001b[0;34m(\u001b[0m\u001b[0;34m'GET'\u001b[0m\u001b[0;34m,\u001b[0m \u001b[0murl\u001b[0m\u001b[0;34m,\u001b[0m \u001b[0mparams\u001b[0m\u001b[0;34m=\u001b[0m\u001b[0mparams\u001b[0m\u001b[0;34m,\u001b[0m \u001b[0mheaders\u001b[0m\u001b[0;34m=\u001b[0m\u001b[0mheaders\u001b[0m\u001b[0;34m)\u001b[0m\u001b[0;34m\u001b[0m\u001b[0m\n\u001b[0;32m--> 372\u001b[0;31m         \u001b[0mraise_for_error\u001b[0m\u001b[0;34m(\u001b[0m\u001b[0mresponse\u001b[0m\u001b[0;34m)\u001b[0m\u001b[0;34m\u001b[0m\u001b[0m\n\u001b[0m\u001b[1;32m    373\u001b[0m         \u001b[0;32mreturn\u001b[0m \u001b[0mresponse\u001b[0m\u001b[0;34m.\u001b[0m\u001b[0mjson\u001b[0m\u001b[0;34m(\u001b[0m\u001b[0;34m)\u001b[0m\u001b[0;34m\u001b[0m\u001b[0m\n\u001b[1;32m    374\u001b[0m \u001b[0;34m\u001b[0m\u001b[0m\n",
      "\u001b[0;32m/Users/christinevinck/anaconda3/envs/SocialWeb/lib/python2.7/site-packages/linkedin/utils.pyc\u001b[0m in \u001b[0;36mraise_for_error\u001b[0;34m(response)\u001b[0m\n\u001b[1;32m     61\u001b[0m                 message = '%s: %s' % (response.get('error', error.message),\n\u001b[1;32m     62\u001b[0m                                       response.get('error_description', 'Unknown Error'))\n\u001b[0;32m---> 63\u001b[0;31m                 \u001b[0;32mraise\u001b[0m \u001b[0mLinkedInError\u001b[0m\u001b[0;34m(\u001b[0m\u001b[0mmessage\u001b[0m\u001b[0;34m)\u001b[0m\u001b[0;34m\u001b[0m\u001b[0m\n\u001b[0m\u001b[1;32m     64\u001b[0m             \u001b[0;32melse\u001b[0m\u001b[0;34m:\u001b[0m\u001b[0;34m\u001b[0m\u001b[0m\n\u001b[1;32m     65\u001b[0m                 \u001b[0;32mraise\u001b[0m \u001b[0mLinkedInError\u001b[0m\u001b[0;34m(\u001b[0m\u001b[0merror\u001b[0m\u001b[0;34m.\u001b[0m\u001b[0mmessage\u001b[0m\u001b[0;34m)\u001b[0m\u001b[0;34m\u001b[0m\u001b[0m\n",
      "\u001b[0;31mLinkedInError\u001b[0m: 400 Client Error: Bad Request for url: https://api.linkedin.com/v1/company-search:(companies:(KLM))?oauth2_access_token=AQUFoelS7kR4gWge3IcmmqjVU-U_aTUFSbe26TwVJPbLl2uktfgHFK3rs1icIHeMZxL7aV4JGmiVMu3X8ATeK1P0eeYWa0nOWAtKlr80ZOCuLdXuKYAMM91ehce3jHSAh9OmYB_31R0o7RqlAcFfLXbinhn2zIGsU6ssgkjp-Z19ryu_KfzZQty5bBOO44Zwe_z9BMt6-QQluSvW82mQ8EBvmqfG-fp2x-9NYeBqCErVplU7DkLXJ3Q7-VtBui7uLRpMpUOHCcCQ-ShJJgO5t_Q5vxWZHCYdRUz5sc9G6LeYv-lI1eR7MsVa6lTLmQmomzlcsOV_4IMsd75Tj-s72ESVYVhAgw: Unknown Error"
     ]
    }
   ],
   "source": [
    "application.search_company(selectors=[{'companies': ['KLM']}])"
   ]
  },
  {
   "cell_type": "code",
   "execution_count": null,
   "metadata": {
    "collapsed": true
   },
   "outputs": [],
   "source": []
  }
 ],
 "metadata": {
  "kernelspec": {
   "display_name": "Social Web Kernel (py2.7)",
   "language": "python",
   "name": "myenv"
  },
  "language_info": {
   "codemirror_mode": {
    "name": "ipython",
    "version": 2
   },
   "file_extension": ".py",
   "mimetype": "text/x-python",
   "name": "python",
   "nbconvert_exporter": "python",
   "pygments_lexer": "ipython2",
   "version": "2.7.13"
  }
 },
 "nbformat": 4,
 "nbformat_minor": 2
}
