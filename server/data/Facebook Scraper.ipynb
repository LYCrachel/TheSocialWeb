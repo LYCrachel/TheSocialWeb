{
 "cells": [
  {
   "cell_type": "markdown",
   "metadata": {},
   "source": [
    "# Facebook Public Feed Scraper\n",
    "An implementation of webscraper for **infinate scrolling pages** of Facebook publics feeds<br>\n"
   ]
  },
  {
   "cell_type": "code",
   "execution_count": null,
   "metadata": {
    "collapsed": false
   },
   "outputs": [],
   "source": [
    "# !pip install beatifulsoup4\n",
    "# !pip install getpass\n",
    "# !pip install selenium"
   ]
  },
  {
   "cell_type": "code",
   "execution_count": 1,
   "metadata": {
    "collapsed": false
   },
   "outputs": [],
   "source": [
    "from selenium import webdriver\n",
    "from getpass import getpass\n",
    "from bs4 import BeautifulSoup\n",
    "import time"
   ]
  },
  {
   "cell_type": "code",
   "execution_count": 2,
   "metadata": {
    "collapsed": true
   },
   "outputs": [],
   "source": [
    "# set fb url\n",
    "base_url = 'http://www.facebook.com'"
   ]
  },
  {
   "cell_type": "markdown",
   "metadata": {},
   "source": [
    "### Setup Web Driver\n",
    "Specify PATH to driver (download: https://sites.google.com/a/chromium.org/chromedriver/)"
   ]
  },
  {
   "cell_type": "code",
   "execution_count": 28,
   "metadata": {
    "collapsed": false
   },
   "outputs": [],
   "source": [
    "PATH = '/Users/christinevinck/anaconda3/envs/SocialWeb/lib/python2.7/site-packages/selenium/webdriver/chrome/chromedriver'\n",
    "driver = webdriver.Chrome(PATH)"
   ]
  },
  {
   "cell_type": "markdown",
   "metadata": {},
   "source": [
    "### Login to Facebook"
   ]
  },
  {
   "cell_type": "code",
   "execution_count": 29,
   "metadata": {
    "collapsed": false
   },
   "outputs": [],
   "source": [
    "# go to facebook page\n",
    "driver.get(base_url)\n",
    "\n",
    "# get email- and password field\n",
    "email_field = driver.find_element_by_id(\"email\")\n",
    "password_field = driver.find_element_by_id(\"pass\")"
   ]
  },
  {
   "cell_type": "code",
   "execution_count": 30,
   "metadata": {
    "collapsed": false
   },
   "outputs": [
    {
     "name": "stdout",
     "output_type": "stream",
     "text": [
      "········\n"
     ]
    }
   ],
   "source": [
    "# set login details\n",
    "email = 'tintilinchi@hotmail.com'\n",
    "password = getpass()"
   ]
  },
  {
   "cell_type": "code",
   "execution_count": 31,
   "metadata": {
    "collapsed": false
   },
   "outputs": [],
   "source": [
    "# fill in login details\n",
    "email_field.send_keys(email)\n",
    "password_field.send_keys(password)"
   ]
  },
  {
   "cell_type": "code",
   "execution_count": 32,
   "metadata": {
    "collapsed": true
   },
   "outputs": [],
   "source": [
    "# login\n",
    "driver.find_element_by_xpath(\"//input[@value='Log In']\").click()"
   ]
  },
  {
   "cell_type": "markdown",
   "metadata": {},
   "source": [
    "### Search in Public Stories"
   ]
  },
  {
   "cell_type": "code",
   "execution_count": 33,
   "metadata": {
    "collapsed": true
   },
   "outputs": [],
   "source": [
    "# define search term\n",
    "search_term = 'klm'\n",
    "\n",
    "# define url for page to scrape\n",
    "url = base_url + '/search/str/{}/stories-keyword/stories-public'.format(search_term)\n",
    "\n",
    "# request the page html\n",
    "driver.get(url)"
   ]
  },
  {
   "cell_type": "code",
   "execution_count": 34,
   "metadata": {
    "collapsed": true
   },
   "outputs": [],
   "source": [
    "def getResults(div):\n",
    "    # go to the results container\n",
    "    results_div = div.findAll(attrs={\"data-testid\" : \"results\"})\n",
    "    # determine level of results\n",
    "    results_div = results_div[0] if len(results_div) != 0 else div\n",
    "    \n",
    "    # get the resultslen(results_div) != 0 else div.\n",
    "    results = results_div.findChildren(recursive=False)\n",
    "    return results"
   ]
  },
  {
   "cell_type": "code",
   "execution_count": 35,
   "metadata": {
    "collapsed": true
   },
   "outputs": [],
   "source": [
    "initial_id = 'BrowseResultsContainer'\n",
    "\n",
    "def getResultsFromContainers(soup):\n",
    "    # get first container\n",
    "    initial_container = soup.find(id=initial_id)\n",
    "    \n",
    "    # if not already retrieved\n",
    "    if initial_id not in container_results.keys():\n",
    "        # get container id\n",
    "        container_id = initial_container.attrs['id']\n",
    "        # retrieve results from container\n",
    "        yield container_id, getResults(initial_container)\n",
    "\n",
    "    # get remaining containers (except last)\n",
    "    for container in initial_container.find_next_siblings()[:-1]:\n",
    "        # get container id\n",
    "        container_id = container.attrs['id']  \n",
    "        # if not already retrieved\n",
    "        if container_id not in container_results.keys():\n",
    "            # retrieve results from container\n",
    "            yield container_id, getResults(container)"
   ]
  },
  {
   "cell_type": "markdown",
   "metadata": {},
   "source": [
    "### Scrape (finite) scrolling \n",
    "TODO: use while loop instead of for loop"
   ]
  },
  {
   "cell_type": "code",
   "execution_count": 36,
   "metadata": {
    "collapsed": true
   },
   "outputs": [],
   "source": [
    "container_results = {}"
   ]
  },
  {
   "cell_type": "code",
   "execution_count": 37,
   "metadata": {
    "collapsed": false,
    "scrolled": false
   },
   "outputs": [],
   "source": [
    "def scrapeScrollingPage(n):\n",
    "\n",
    "    for i in range(0, n):\n",
    "        print('Scraping scrolling: {}'.format(i))\n",
    "\n",
    "        # scroll to the end of the page\n",
    "        driver.execute_script(\"window.scrollTo(0, document.body.scrollHeight)\")\n",
    "        time.sleep(10)\n",
    "\n",
    "        # retrieve html\n",
    "        html_source = driver.page_source\n",
    "        data = html_source.encode('utf-8')\n",
    "\n",
    "        # create soup\n",
    "        soup = BeautifulSoup(data, 'html.parser')\n",
    "        # parse to get data\n",
    "        for container_id, results in getResultsFromContainers(soup):\n",
    "            # store results\n",
    "            print('Container: {} '.format(container_id) + 'has {} results'.format(len(results)))\n",
    "            container_results[container_id] = results"
   ]
  },
  {
   "cell_type": "code",
   "execution_count": 38,
   "metadata": {
    "collapsed": false
   },
   "outputs": [
    {
     "name": "stdout",
     "output_type": "stream",
     "text": [
      "Scraping scrolling: 0\n",
      "Container: BrowseResultsContainer has 2 results\n",
      "Container: u_ps_0_3_0_browse_result_below_fold has 3 results\n",
      "Container: fbBrowseScrollingPagerContainer0 has 3 results\n",
      "Container: fbBrowseScrollingPagerContainer1 has 3 results\n",
      "Container: fbBrowseScrollingPagerContainer2 has 3 results\n",
      "Scraping scrolling: 1\n",
      "Container: fbBrowseScrollingPagerContainer3 has 3 results\n",
      "Container: fbBrowseScrollingPagerContainer4 has 3 results\n",
      "Scraping scrolling: 2\n",
      "Container: fbBrowseScrollingPagerContainer5 has 3 results\n",
      "Container: fbBrowseScrollingPagerContainer6 has 3 results\n",
      "Scraping scrolling: 3\n",
      "Container: fbBrowseScrollingPagerContainer7 has 3 results\n",
      "Container: fbBrowseScrollingPagerContainer8 has 3 results\n",
      "Scraping scrolling: 4\n",
      "Container: fbBrowseScrollingPagerContainer9 has 2 results\n",
      "Container: fbBrowseScrollingPagerContainer10 has 3 results\n",
      "Scraping scrolling: 5\n",
      "Container: fbBrowseScrollingPagerContainer11 has 3 results\n",
      "Container: fbBrowseScrollingPagerContainer12 has 3 results\n",
      "Scraping scrolling: 6\n",
      "Container: fbBrowseScrollingPagerContainer13 has 3 results\n",
      "Container: fbBrowseScrollingPagerContainer14 has 3 results\n",
      "Scraping scrolling: 7\n",
      "Container: fbBrowseScrollingPagerContainer15 has 3 results\n",
      "Container: fbBrowseScrollingPagerContainer16 has 3 results\n",
      "Scraping scrolling: 8\n",
      "Container: fbBrowseScrollingPagerContainer17 has 3 results\n",
      "Container: fbBrowseScrollingPagerContainer18 has 2 results\n",
      "Scraping scrolling: 9\n",
      "Container: fbBrowseScrollingPagerContainer19 has 3 results\n",
      "Container: fbBrowseScrollingPagerContainer20 has 3 results\n",
      "Scraping scrolling: 10\n",
      "Container: fbBrowseScrollingPagerContainer21 has 2 results\n",
      "Container: fbBrowseScrollingPagerContainer22 has 2 results\n",
      "Scraping scrolling: 11\n",
      "Container: fbBrowseScrollingPagerContainer23 has 3 results\n",
      "Container: fbBrowseScrollingPagerContainer24 has 3 results\n",
      "Scraping scrolling: 12\n",
      "Container: fbBrowseScrollingPagerContainer25 has 2 results\n",
      "Container: fbBrowseScrollingPagerContainer26 has 3 results\n",
      "Scraping scrolling: 13\n",
      "Container: fbBrowseScrollingPagerContainer27 has 3 results\n",
      "Container: fbBrowseScrollingPagerContainer28 has 3 results\n",
      "Scraping scrolling: 14\n",
      "Container: fbBrowseScrollingPagerContainer29 has 3 results\n",
      "Container: fbBrowseScrollingPagerContainer30 has 3 results\n",
      "Scraping scrolling: 15\n",
      "Container: fbBrowseScrollingPagerContainer31 has 3 results\n",
      "Container: fbBrowseScrollingPagerContainer32 has 3 results\n",
      "Scraping scrolling: 16\n",
      "Container: fbBrowseScrollingPagerContainer33 has 3 results\n",
      "Container: fbBrowseScrollingPagerContainer34 has 1 results\n",
      "Scraping scrolling: 17\n",
      "Container: fbBrowseScrollingPagerContainer35 has 0 results\n",
      "Scraping scrolling: 18\n",
      "Scraping scrolling: 19\n",
      "Scraping scrolling: 20\n",
      "Scraping scrolling: 21\n",
      "Scraping scrolling: 22\n",
      "Scraping scrolling: 23\n",
      "Scraping scrolling: 24\n",
      "Scraping scrolling: 25\n",
      "Scraping scrolling: 26\n",
      "Scraping scrolling: 27\n",
      "Scraping scrolling: 28\n",
      "Scraping scrolling: 29\n",
      "Scraping scrolling: 30\n",
      "Scraping scrolling: 31\n",
      "Scraping scrolling: 32\n",
      "Scraping scrolling: 33\n",
      "Scraping scrolling: 34\n",
      "Scraping scrolling: 35\n",
      "Scraping scrolling: 36\n",
      "Scraping scrolling: 37\n",
      "Scraping scrolling: 38\n",
      "Scraping scrolling: 39\n"
     ]
    }
   ],
   "source": [
    "# Scrape for 40 times scrolling (TODO: use while...)\n",
    "n = 40\n",
    "scrapeScrollingPage(n)"
   ]
  },
  {
   "cell_type": "markdown",
   "metadata": {},
   "source": [
    "**NOTE:** After 17 scrolls, this page reaches -- End of Results --, which is in no means all the results to be generated, so we should think about how to cope with this.\n",
    "![title](img/end-of-results.png)"
   ]
  },
  {
   "cell_type": "markdown",
   "metadata": {},
   "source": [
    "### Parse results to obtain raw data"
   ]
  },
  {
   "cell_type": "code",
   "execution_count": 40,
   "metadata": {
    "collapsed": false,
    "scrolled": false
   },
   "outputs": [
    {
     "name": "stdout",
     "output_type": "stream",
     "text": [
      "Airplane-Pictures.net\n",
      "March 3, 2016 at 8:31pm\n",
      "Business Today\n",
      "7 hours ago\n",
      "KLM Royal Dutch Airlines\n",
      "March 11, 2013 at 4:31pm\n",
      "Aeroflap\n",
      "February 21, 2017 at 4:57pm\n",
      "Mazhavil Manorama\n",
      "September 8, 2017 at 1:16pm\n",
      "BoardingPass\n",
      "52 minutes ago\n",
      "KLM Royal Dutch Airlines\n",
      "February 26 at 12:48pm\n",
      "KLM Royal Dutch Airlines\n",
      "March 10, 2015 at 10:11am\n",
      "O.R. Tambo International Airport\n",
      "February 17, 2017 at 12:38pm\n",
      "KLM Royal Dutch Airlines\n",
      "March 6, 2014 at 1:53pm\n",
      "KLM Royal Dutch Airlines\n",
      "January 25, 2016 at 4:00pm\n",
      "Hitradio Namibia\n",
      "36 new photos\n",
      "KLM Royal Dutch Airlines\n",
      "June 8, 2017 at 4:49pm\n",
      "Secret Flying\n",
      "March 2 at 2:39pm\n",
      "KLM Royal Dutch Airlines\n",
      "October 31, 2016 at 10:58am\n",
      "KLM Royal Dutch Airlines\n",
      "March 7, 2016 at 10:00am\n",
      "Ramsay World Travel, Kirkcaldy\n",
      "March 1 at 1:04pm\n",
      "Secret Flying\n",
      "December 21, 2016 at 2:57pm\n",
      "KLM Royal Dutch Airlines\n",
      "September 29, 2014 at 4:26pm\n",
      "Grumpy Aliens Korea\n",
      "January 9 at 9:22am\n",
      "Mazhavil Manorama\n",
      "November 24, 2017 at 2:00pm\n",
      "A Fly Guy's Cabin Crew Lounge\n",
      "November 1, 2012 at 4:52pm\n",
      "Amsterdam Airport Schiphol\n",
      "November 4, 2011 at 5:23pm\n",
      "KLM Royal Dutch Airlines\n",
      "October 16, 2015 at 11:34am\n",
      "KLM Royal Dutch Airlines\n",
      "September 15, 2014 at 4:11pm\n",
      "Guilherme Gumz Utech\n",
      "September 4, 2016 at 5:22pm\n",
      "KLM Royal Dutch Airlines\n",
      "March 4, 2016 at 10:00am\n",
      "Avia.lt\n",
      "Ernesta Norutė\n",
      "PERSHENDETJE MUZIKORE\n",
      "September 11, 2012 at 8:33am\n",
      "Konstantina Varthalami\n",
      "March 2, 2012 at 12:36am\n",
      "Twin Doctors TV\n",
      "March 4 at 3:56pm\n",
      "KLM Royal Dutch Airlines\n",
      "December 20, 2012 at 7:06pm\n",
      "KLM Royal Dutch Airlines\n",
      "June 25, 2015 at 11:40am\n",
      "KLM Royal Dutch Airlines\n",
      "Brayan Gonzalez\n",
      "Realmadrid gjithmonë kampionë\n",
      "November 17, 2011 at 10:44am\n",
      "Kaleme\n",
      "November 23, 2012 at 8:26pm\n",
      "ABC World News Tonight with David Muir\n",
      "St. Maarten\n",
      "Baby Shower Ideas 4U\n",
      "December 12, 2015 at 11:28pm\n",
      "Tim Coronel Dakarrally\n",
      "Dakar Rally\n",
      "NU.nl\n",
      "2 hours ago\n",
      "LINDAnieuws\n",
      "54 minutes ago\n",
      "Secret Flying\n",
      "January 14, 2017 at 11:33am\n",
      "NU.nl\n",
      "February 28 at 2:32pm\n",
      "The Financial Express\n",
      "9 hours ago\n",
      "KLM Royal Dutch Airlines\n",
      "November 17, 2015 at 2:19pm\n",
      "Aviation News\n",
      "about an hour ago\n",
      "Airliners.net\n",
      "December 19, 2015 at 4:55am\n",
      "CARVE Surfing Magazine\n",
      "December 8, 2015 at 6:00pm\n",
      "Zee News English\n",
      "Yesterday at 1:03pm\n",
      "A Fly Guy's Cabin Crew Lounge\n",
      "September 20, 2016 at 12:47pm\n",
      "Swarajya\n",
      "8 hours ago\n",
      "A Fly Guy's Cabin Crew Lounge\n",
      "April 14, 2015 at 2:54pm\n",
      "Secret Flying\n",
      "March 3 at 4:26pm\n",
      "CNN International\n",
      "May 18, 2017 at 5:03pm\n",
      "KLM Polska\n",
      "April 14, 2016 at 1:34pm\n",
      "KLM Royal Dutch Airlines\n",
      "October 7, 2016 at 10:00am\n",
      "KLM Royal Dutch Airlines\n",
      "March 9 at 3:47pm\n",
      "KLM Royal Dutch Airlines\n",
      "March 5 at 3:54pm\n",
      "KLM Radio B' Ham\n",
      "4 minutes ago\n",
      "KLM Royal Dutch Airlines\n",
      "March 29, 2016 at 3:37pm\n",
      "India TV\n",
      "8 hours ago\n",
      "KLM Royal Dutch Airlines\n",
      "April 30, 2015 at 6:12pm\n",
      "KLM Royal Dutch Airlines\n",
      "March 6 at 4:00pm\n",
      "Business Insider\n",
      "November 12, 2017 at 7:55pm\n",
      "A Fly Guy's Cabin Crew Lounge\n",
      "March 1 at 1:37pm\n",
      "DNA India\n",
      "Yesterday at 12:35pm\n",
      "GOL Linhas Aéreas\n",
      "July 6, 2016 at 9:00pm\n",
      "Chris Vos\n",
      "Lisa Bunschoten - Snowboarder\n",
      "Mad over Marketing (M.O.M)\n",
      "January 20, 2017 at 1:30pm\n",
      "KLM Royal Dutch Airlines\n",
      "March 3, 2014 at 4:40pm\n",
      "Firstpost\n",
      "Yesterday at 3:54pm\n",
      "KLM Philippines\n",
      "March 9, 2017 at 9:34am\n",
      "Amsterdam Airport Schiphol\n",
      "February 14 at 10:05am\n",
      "Amsterdam Airport Schiphol\n",
      "Lila Torres Gusbaño\n",
      "Eliza Dushku\n",
      "March 29, 2016 at 7:50pm\n",
      "KLM Royal Dutch Airlines\n",
      "March 1, 2015 at 3:00pm\n",
      "Intriper\n",
      "December 24, 2017 at 4:35pm\n",
      "KLM UK\n",
      "March 1 at 5:27pm\n",
      "KLM Royal Dutch Airlines\n",
      "March 3 at 10:30am\n",
      "KLM España\n",
      "March 7 at 2:11pm\n",
      "KLM Ecuador\n",
      "February 26, 2016 at 10:00am\n",
      "Mad over Marketing (M.O.M)\n",
      "January 9, 2017 at 8:30am\n",
      "Messenger\n",
      "May 10, 2016 at 8:00pm\n",
      "A Fly Guy's Cabin Crew Lounge\n",
      "Rohit Sen\n",
      "Secret Flying\n",
      "11 hours ago\n",
      "Industrialyzer\n",
      "March 4 at 4:16pm\n",
      "KLM Royal Dutch Airlines\n",
      "March 10 at 10:30am\n",
      "AviationCV.com\n",
      "November 21, 2017 at 11:00am\n",
      "A Fly Guy's Cabin Crew Lounge\n",
      "May 14, 2016 at 7:29am\n",
      "KLM Royal Dutch Airlines\n",
      "October 18, 2017 at 3:50pm\n",
      "The Points Guy\n",
      "February 28 at 7:01pm\n",
      "KLM Royal Dutch Airlines\n",
      "February 27 at 11:40am\n",
      "KLM Royal Dutch Airlines\n",
      "March 8 at 10:17am\n",
      "KLM Russia\n",
      "February 27 at 2:32pm\n",
      "KLM Argentina\n",
      "February 29, 2016 at 10:00am\n",
      "KLM Royal Dutch Airlines\n",
      "March 8, 2015 at 11:00am\n",
      "KLM Royal Dutch Airlines\n",
      "March 3, 2017 at 10:32am\n",
      "KLM Aruba Marathon\n",
      "Arruwac Aruba\n",
      "KLM Philippines\n",
      "January 29 at 11:00am\n",
      "KLM Royal Dutch Airlines\n",
      "February 27, 2017 at 10:21am\n",
      "KLM Royal Dutch Airlines\n",
      "March 14, 2013 at 4:38pm\n",
      "KLM Royal Dutch Airlines\n",
      "Helmi Ibrahim\n",
      "KLM UK\n",
      "March 8, 2013 at 12:11pm\n"
     ]
    },
    {
     "data": {
      "text/plain": [
       "103"
      ]
     },
     "execution_count": 40,
     "metadata": {},
     "output_type": "execute_result"
    }
   ],
   "source": [
    "# Parse Results (TODO: parse before storing)\n",
    "total_results_count = 0\n",
    "\n",
    "for key, results in container_results.iteritems():\n",
    "    total_results_count += len(results)\n",
    "\n",
    "    for div in results:\n",
    "        # get header\n",
    "        header_divs = div.find('div', attrs={'class': 'clearfix'})\\\n",
    "            .findAll('div', recursive=False)[0]\\\n",
    "            .findAll('a')\n",
    "        \n",
    "        # get company name\n",
    "        name_div = header_divs[0]\n",
    "        name = name_div.get_text()\n",
    "        print(name)\n",
    "        \n",
    "        # get date\n",
    "        date_div = header_divs[2]\n",
    "        date = date_div.get_text()\n",
    "        print(date)\n",
    "\n",
    "        # TODO:get verified?   \n",
    "        \n",
    "        # TODO: get loves/likes/sad, comments, shares\n",
    "    \n",
    "total_results_count"
   ]
  },
  {
   "cell_type": "markdown",
   "metadata": {},
   "source": [
    "### Search by year"
   ]
  },
  {
   "cell_type": "code",
   "execution_count": 41,
   "metadata": {
    "collapsed": true
   },
   "outputs": [],
   "source": [
    "start_year = '2017'\n",
    "end_year = start_year\n",
    "\n",
    "query_filter_by_year = '?filters_rp_creation_time=%7B\"name\"%3A\"creation_time\"%2C\"args\"%3A\"%7B%5C\"start_year%5C\"%3A%5C\"{}%5C\"%2C%5C\"start_month%5C\"%3A%5C\"{}-01%5C\"%2C%5C\"end_year%5C\"%3A%5C\"{}%5C\"%2C%5C\"end_month%5C\"%3A%5C\"{}-12%5C\"%7D\"%7D'\\\n",
    "                        .format(start_year, start_year, end_year, end_year)"
   ]
  },
  {
   "cell_type": "code",
   "execution_count": 42,
   "metadata": {
    "collapsed": true
   },
   "outputs": [],
   "source": [
    "query_url = url + query_filter_by_year\n",
    "# request the page html\n",
    "driver.get(query_url)"
   ]
  },
  {
   "cell_type": "code",
   "execution_count": 44,
   "metadata": {
    "collapsed": false
   },
   "outputs": [
    {
     "name": "stdout",
     "output_type": "stream",
     "text": [
      "Scraping scrolling: 0\n"
     ]
    },
    {
     "ename": "error",
     "evalue": "[Errno 54] Connection reset by peer",
     "output_type": "error",
     "traceback": [
      "\u001b[0;31m---------------------------------------------------------------------------\u001b[0m",
      "\u001b[0;31merror\u001b[0m                                     Traceback (most recent call last)",
      "\u001b[0;32m<ipython-input-44-862a982d517f>\u001b[0m in \u001b[0;36m<module>\u001b[0;34m()\u001b[0m\n\u001b[1;32m      1\u001b[0m \u001b[0mcontainer_results\u001b[0m \u001b[0;34m=\u001b[0m \u001b[0;34m{\u001b[0m\u001b[0;34m}\u001b[0m\u001b[0;34m\u001b[0m\u001b[0m\n\u001b[0;32m----> 2\u001b[0;31m \u001b[0mscrapeScrollingPage\u001b[0m\u001b[0;34m(\u001b[0m\u001b[0mn\u001b[0m\u001b[0;34m)\u001b[0m\u001b[0;34m\u001b[0m\u001b[0m\n\u001b[0m",
      "\u001b[0;32m<ipython-input-37-65b43bbc2377>\u001b[0m in \u001b[0;36mscrapeScrollingPage\u001b[0;34m(n)\u001b[0m\n\u001b[1;32m      5\u001b[0m \u001b[0;34m\u001b[0m\u001b[0m\n\u001b[1;32m      6\u001b[0m         \u001b[0;31m# scroll to the end of the page\u001b[0m\u001b[0;34m\u001b[0m\u001b[0;34m\u001b[0m\u001b[0m\n\u001b[0;32m----> 7\u001b[0;31m         \u001b[0mdriver\u001b[0m\u001b[0;34m.\u001b[0m\u001b[0mexecute_script\u001b[0m\u001b[0;34m(\u001b[0m\u001b[0;34m\"window.scrollTo(0, document.body.scrollHeight)\"\u001b[0m\u001b[0;34m)\u001b[0m\u001b[0;34m\u001b[0m\u001b[0m\n\u001b[0m\u001b[1;32m      8\u001b[0m         \u001b[0mtime\u001b[0m\u001b[0;34m.\u001b[0m\u001b[0msleep\u001b[0m\u001b[0;34m(\u001b[0m\u001b[0;36m10\u001b[0m\u001b[0;34m)\u001b[0m\u001b[0;34m\u001b[0m\u001b[0m\n\u001b[1;32m      9\u001b[0m \u001b[0;34m\u001b[0m\u001b[0m\n",
      "\u001b[0;32m/Users/christinevinck/anaconda3/envs/SocialWeb/lib/python2.7/site-packages/selenium/webdriver/remote/webdriver.pyc\u001b[0m in \u001b[0;36mexecute_script\u001b[0;34m(self, script, *args)\u001b[0m\n\u001b[1;32m    625\u001b[0m         return self.execute(command, {\n\u001b[1;32m    626\u001b[0m             \u001b[0;34m'script'\u001b[0m\u001b[0;34m:\u001b[0m \u001b[0mscript\u001b[0m\u001b[0;34m,\u001b[0m\u001b[0;34m\u001b[0m\u001b[0m\n\u001b[0;32m--> 627\u001b[0;31m             'args': converted_args})['value']\n\u001b[0m\u001b[1;32m    628\u001b[0m \u001b[0;34m\u001b[0m\u001b[0m\n\u001b[1;32m    629\u001b[0m     \u001b[0;32mdef\u001b[0m \u001b[0mexecute_async_script\u001b[0m\u001b[0;34m(\u001b[0m\u001b[0mself\u001b[0m\u001b[0;34m,\u001b[0m \u001b[0mscript\u001b[0m\u001b[0;34m,\u001b[0m \u001b[0;34m*\u001b[0m\u001b[0margs\u001b[0m\u001b[0;34m)\u001b[0m\u001b[0;34m:\u001b[0m\u001b[0;34m\u001b[0m\u001b[0m\n",
      "\u001b[0;32m/Users/christinevinck/anaconda3/envs/SocialWeb/lib/python2.7/site-packages/selenium/webdriver/remote/webdriver.pyc\u001b[0m in \u001b[0;36mexecute\u001b[0;34m(self, driver_command, params)\u001b[0m\n\u001b[1;32m    308\u001b[0m \u001b[0;34m\u001b[0m\u001b[0m\n\u001b[1;32m    309\u001b[0m         \u001b[0mparams\u001b[0m \u001b[0;34m=\u001b[0m \u001b[0mself\u001b[0m\u001b[0;34m.\u001b[0m\u001b[0m_wrap_value\u001b[0m\u001b[0;34m(\u001b[0m\u001b[0mparams\u001b[0m\u001b[0;34m)\u001b[0m\u001b[0;34m\u001b[0m\u001b[0m\n\u001b[0;32m--> 310\u001b[0;31m         \u001b[0mresponse\u001b[0m \u001b[0;34m=\u001b[0m \u001b[0mself\u001b[0m\u001b[0;34m.\u001b[0m\u001b[0mcommand_executor\u001b[0m\u001b[0;34m.\u001b[0m\u001b[0mexecute\u001b[0m\u001b[0;34m(\u001b[0m\u001b[0mdriver_command\u001b[0m\u001b[0;34m,\u001b[0m \u001b[0mparams\u001b[0m\u001b[0;34m)\u001b[0m\u001b[0;34m\u001b[0m\u001b[0m\n\u001b[0m\u001b[1;32m    311\u001b[0m         \u001b[0;32mif\u001b[0m \u001b[0mresponse\u001b[0m\u001b[0;34m:\u001b[0m\u001b[0;34m\u001b[0m\u001b[0m\n\u001b[1;32m    312\u001b[0m             \u001b[0mself\u001b[0m\u001b[0;34m.\u001b[0m\u001b[0merror_handler\u001b[0m\u001b[0;34m.\u001b[0m\u001b[0mcheck_response\u001b[0m\u001b[0;34m(\u001b[0m\u001b[0mresponse\u001b[0m\u001b[0;34m)\u001b[0m\u001b[0;34m\u001b[0m\u001b[0m\n",
      "\u001b[0;32m/Users/christinevinck/anaconda3/envs/SocialWeb/lib/python2.7/site-packages/selenium/webdriver/remote/remote_connection.pyc\u001b[0m in \u001b[0;36mexecute\u001b[0;34m(self, command, params)\u001b[0m\n\u001b[1;32m    464\u001b[0m         \u001b[0mdata\u001b[0m \u001b[0;34m=\u001b[0m \u001b[0mutils\u001b[0m\u001b[0;34m.\u001b[0m\u001b[0mdump_json\u001b[0m\u001b[0;34m(\u001b[0m\u001b[0mparams\u001b[0m\u001b[0;34m)\u001b[0m\u001b[0;34m\u001b[0m\u001b[0m\n\u001b[1;32m    465\u001b[0m         \u001b[0murl\u001b[0m \u001b[0;34m=\u001b[0m \u001b[0;34m'%s%s'\u001b[0m \u001b[0;34m%\u001b[0m \u001b[0;34m(\u001b[0m\u001b[0mself\u001b[0m\u001b[0;34m.\u001b[0m\u001b[0m_url\u001b[0m\u001b[0;34m,\u001b[0m \u001b[0mpath\u001b[0m\u001b[0;34m)\u001b[0m\u001b[0;34m\u001b[0m\u001b[0m\n\u001b[0;32m--> 466\u001b[0;31m         \u001b[0;32mreturn\u001b[0m \u001b[0mself\u001b[0m\u001b[0;34m.\u001b[0m\u001b[0m_request\u001b[0m\u001b[0;34m(\u001b[0m\u001b[0mcommand_info\u001b[0m\u001b[0;34m[\u001b[0m\u001b[0;36m0\u001b[0m\u001b[0;34m]\u001b[0m\u001b[0;34m,\u001b[0m \u001b[0murl\u001b[0m\u001b[0;34m,\u001b[0m \u001b[0mbody\u001b[0m\u001b[0;34m=\u001b[0m\u001b[0mdata\u001b[0m\u001b[0;34m)\u001b[0m\u001b[0;34m\u001b[0m\u001b[0m\n\u001b[0m\u001b[1;32m    467\u001b[0m \u001b[0;34m\u001b[0m\u001b[0m\n\u001b[1;32m    468\u001b[0m     \u001b[0;32mdef\u001b[0m \u001b[0m_request\u001b[0m\u001b[0;34m(\u001b[0m\u001b[0mself\u001b[0m\u001b[0;34m,\u001b[0m \u001b[0mmethod\u001b[0m\u001b[0;34m,\u001b[0m \u001b[0murl\u001b[0m\u001b[0;34m,\u001b[0m \u001b[0mbody\u001b[0m\u001b[0;34m=\u001b[0m\u001b[0mNone\u001b[0m\u001b[0;34m)\u001b[0m\u001b[0;34m:\u001b[0m\u001b[0;34m\u001b[0m\u001b[0m\n",
      "\u001b[0;32m/Users/christinevinck/anaconda3/envs/SocialWeb/lib/python2.7/site-packages/selenium/webdriver/remote/remote_connection.pyc\u001b[0m in \u001b[0;36m_request\u001b[0;34m(self, method, url, body)\u001b[0m\n\u001b[1;32m    488\u001b[0m             \u001b[0;32mtry\u001b[0m\u001b[0;34m:\u001b[0m\u001b[0;34m\u001b[0m\u001b[0m\n\u001b[1;32m    489\u001b[0m                 \u001b[0mself\u001b[0m\u001b[0;34m.\u001b[0m\u001b[0m_conn\u001b[0m\u001b[0;34m.\u001b[0m\u001b[0mrequest\u001b[0m\u001b[0;34m(\u001b[0m\u001b[0mmethod\u001b[0m\u001b[0;34m,\u001b[0m \u001b[0mparsed_url\u001b[0m\u001b[0;34m.\u001b[0m\u001b[0mpath\u001b[0m\u001b[0;34m,\u001b[0m \u001b[0mbody\u001b[0m\u001b[0;34m,\u001b[0m \u001b[0mheaders\u001b[0m\u001b[0;34m)\u001b[0m\u001b[0;34m\u001b[0m\u001b[0m\n\u001b[0;32m--> 490\u001b[0;31m                 \u001b[0mresp\u001b[0m \u001b[0;34m=\u001b[0m \u001b[0mself\u001b[0m\u001b[0;34m.\u001b[0m\u001b[0m_conn\u001b[0m\u001b[0;34m.\u001b[0m\u001b[0mgetresponse\u001b[0m\u001b[0;34m(\u001b[0m\u001b[0;34m)\u001b[0m\u001b[0;34m\u001b[0m\u001b[0m\n\u001b[0m\u001b[1;32m    491\u001b[0m             \u001b[0;32mexcept\u001b[0m \u001b[0;34m(\u001b[0m\u001b[0mhttplib\u001b[0m\u001b[0;34m.\u001b[0m\u001b[0mHTTPException\u001b[0m\u001b[0;34m,\u001b[0m \u001b[0msocket\u001b[0m\u001b[0;34m.\u001b[0m\u001b[0merror\u001b[0m\u001b[0;34m)\u001b[0m\u001b[0;34m:\u001b[0m\u001b[0;34m\u001b[0m\u001b[0m\n\u001b[1;32m    492\u001b[0m                 \u001b[0mself\u001b[0m\u001b[0;34m.\u001b[0m\u001b[0m_conn\u001b[0m\u001b[0;34m.\u001b[0m\u001b[0mclose\u001b[0m\u001b[0;34m(\u001b[0m\u001b[0;34m)\u001b[0m\u001b[0;34m\u001b[0m\u001b[0m\n",
      "\u001b[0;32m/Users/christinevinck/anaconda3/envs/SocialWeb/lib/python2.7/httplib.pyc\u001b[0m in \u001b[0;36mgetresponse\u001b[0;34m(self, buffering)\u001b[0m\n\u001b[1;32m   1119\u001b[0m \u001b[0;34m\u001b[0m\u001b[0m\n\u001b[1;32m   1120\u001b[0m         \u001b[0;32mtry\u001b[0m\u001b[0;34m:\u001b[0m\u001b[0;34m\u001b[0m\u001b[0m\n\u001b[0;32m-> 1121\u001b[0;31m             \u001b[0mresponse\u001b[0m\u001b[0;34m.\u001b[0m\u001b[0mbegin\u001b[0m\u001b[0;34m(\u001b[0m\u001b[0;34m)\u001b[0m\u001b[0;34m\u001b[0m\u001b[0m\n\u001b[0m\u001b[1;32m   1122\u001b[0m             \u001b[0;32massert\u001b[0m \u001b[0mresponse\u001b[0m\u001b[0;34m.\u001b[0m\u001b[0mwill_close\u001b[0m \u001b[0;34m!=\u001b[0m \u001b[0m_UNKNOWN\u001b[0m\u001b[0;34m\u001b[0m\u001b[0m\n\u001b[1;32m   1123\u001b[0m             \u001b[0mself\u001b[0m\u001b[0;34m.\u001b[0m\u001b[0m__state\u001b[0m \u001b[0;34m=\u001b[0m \u001b[0m_CS_IDLE\u001b[0m\u001b[0;34m\u001b[0m\u001b[0m\n",
      "\u001b[0;32m/Users/christinevinck/anaconda3/envs/SocialWeb/lib/python2.7/httplib.pyc\u001b[0m in \u001b[0;36mbegin\u001b[0;34m(self)\u001b[0m\n\u001b[1;32m    436\u001b[0m         \u001b[0;31m# read until we get a non-100 response\u001b[0m\u001b[0;34m\u001b[0m\u001b[0;34m\u001b[0m\u001b[0m\n\u001b[1;32m    437\u001b[0m         \u001b[0;32mwhile\u001b[0m \u001b[0mTrue\u001b[0m\u001b[0;34m:\u001b[0m\u001b[0;34m\u001b[0m\u001b[0m\n\u001b[0;32m--> 438\u001b[0;31m             \u001b[0mversion\u001b[0m\u001b[0;34m,\u001b[0m \u001b[0mstatus\u001b[0m\u001b[0;34m,\u001b[0m \u001b[0mreason\u001b[0m \u001b[0;34m=\u001b[0m \u001b[0mself\u001b[0m\u001b[0;34m.\u001b[0m\u001b[0m_read_status\u001b[0m\u001b[0;34m(\u001b[0m\u001b[0;34m)\u001b[0m\u001b[0;34m\u001b[0m\u001b[0m\n\u001b[0m\u001b[1;32m    439\u001b[0m             \u001b[0;32mif\u001b[0m \u001b[0mstatus\u001b[0m \u001b[0;34m!=\u001b[0m \u001b[0mCONTINUE\u001b[0m\u001b[0;34m:\u001b[0m\u001b[0;34m\u001b[0m\u001b[0m\n\u001b[1;32m    440\u001b[0m                 \u001b[0;32mbreak\u001b[0m\u001b[0;34m\u001b[0m\u001b[0m\n",
      "\u001b[0;32m/Users/christinevinck/anaconda3/envs/SocialWeb/lib/python2.7/httplib.pyc\u001b[0m in \u001b[0;36m_read_status\u001b[0;34m(self)\u001b[0m\n\u001b[1;32m    392\u001b[0m     \u001b[0;32mdef\u001b[0m \u001b[0m_read_status\u001b[0m\u001b[0;34m(\u001b[0m\u001b[0mself\u001b[0m\u001b[0;34m)\u001b[0m\u001b[0;34m:\u001b[0m\u001b[0;34m\u001b[0m\u001b[0m\n\u001b[1;32m    393\u001b[0m         \u001b[0;31m# Initialize with Simple-Response defaults\u001b[0m\u001b[0;34m\u001b[0m\u001b[0;34m\u001b[0m\u001b[0m\n\u001b[0;32m--> 394\u001b[0;31m         \u001b[0mline\u001b[0m \u001b[0;34m=\u001b[0m \u001b[0mself\u001b[0m\u001b[0;34m.\u001b[0m\u001b[0mfp\u001b[0m\u001b[0;34m.\u001b[0m\u001b[0mreadline\u001b[0m\u001b[0;34m(\u001b[0m\u001b[0m_MAXLINE\u001b[0m \u001b[0;34m+\u001b[0m \u001b[0;36m1\u001b[0m\u001b[0;34m)\u001b[0m\u001b[0;34m\u001b[0m\u001b[0m\n\u001b[0m\u001b[1;32m    395\u001b[0m         \u001b[0;32mif\u001b[0m \u001b[0mlen\u001b[0m\u001b[0;34m(\u001b[0m\u001b[0mline\u001b[0m\u001b[0;34m)\u001b[0m \u001b[0;34m>\u001b[0m \u001b[0m_MAXLINE\u001b[0m\u001b[0;34m:\u001b[0m\u001b[0;34m\u001b[0m\u001b[0m\n\u001b[1;32m    396\u001b[0m             \u001b[0;32mraise\u001b[0m \u001b[0mLineTooLong\u001b[0m\u001b[0;34m(\u001b[0m\u001b[0;34m\"header line\"\u001b[0m\u001b[0;34m)\u001b[0m\u001b[0;34m\u001b[0m\u001b[0m\n",
      "\u001b[0;32m/Users/christinevinck/anaconda3/envs/SocialWeb/lib/python2.7/socket.pyc\u001b[0m in \u001b[0;36mreadline\u001b[0;34m(self, size)\u001b[0m\n\u001b[1;32m    478\u001b[0m             \u001b[0;32mwhile\u001b[0m \u001b[0mTrue\u001b[0m\u001b[0;34m:\u001b[0m\u001b[0;34m\u001b[0m\u001b[0m\n\u001b[1;32m    479\u001b[0m                 \u001b[0;32mtry\u001b[0m\u001b[0;34m:\u001b[0m\u001b[0;34m\u001b[0m\u001b[0m\n\u001b[0;32m--> 480\u001b[0;31m                     \u001b[0mdata\u001b[0m \u001b[0;34m=\u001b[0m \u001b[0mself\u001b[0m\u001b[0;34m.\u001b[0m\u001b[0m_sock\u001b[0m\u001b[0;34m.\u001b[0m\u001b[0mrecv\u001b[0m\u001b[0;34m(\u001b[0m\u001b[0mself\u001b[0m\u001b[0;34m.\u001b[0m\u001b[0m_rbufsize\u001b[0m\u001b[0;34m)\u001b[0m\u001b[0;34m\u001b[0m\u001b[0m\n\u001b[0m\u001b[1;32m    481\u001b[0m                 \u001b[0;32mexcept\u001b[0m \u001b[0merror\u001b[0m\u001b[0;34m,\u001b[0m \u001b[0me\u001b[0m\u001b[0;34m:\u001b[0m\u001b[0;34m\u001b[0m\u001b[0m\n\u001b[1;32m    482\u001b[0m                     \u001b[0;32mif\u001b[0m \u001b[0me\u001b[0m\u001b[0;34m.\u001b[0m\u001b[0margs\u001b[0m\u001b[0;34m[\u001b[0m\u001b[0;36m0\u001b[0m\u001b[0;34m]\u001b[0m \u001b[0;34m==\u001b[0m \u001b[0mEINTR\u001b[0m\u001b[0;34m:\u001b[0m\u001b[0;34m\u001b[0m\u001b[0m\n",
      "\u001b[0;31merror\u001b[0m: [Errno 54] Connection reset by peer"
     ]
    }
   ],
   "source": [
    "container_results = {}\n",
    "scrapeScrollingPage(n)"
   ]
  },
  {
   "cell_type": "code",
   "execution_count": null,
   "metadata": {
    "collapsed": true
   },
   "outputs": [],
   "source": []
  }
 ],
 "metadata": {
  "kernelspec": {
   "display_name": "Social Web Kernel (py2.7)",
   "language": "python",
   "name": "myenv"
  },
  "language_info": {
   "codemirror_mode": {
    "name": "ipython",
    "version": 2
   },
   "file_extension": ".py",
   "mimetype": "text/x-python",
   "name": "python",
   "nbconvert_exporter": "python",
   "pygments_lexer": "ipython2",
   "version": "2.7.13"
  }
 },
 "nbformat": 4,
 "nbformat_minor": 2
}
